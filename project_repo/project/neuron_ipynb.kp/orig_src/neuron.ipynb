{
 "cells": [
  {
   "cell_type": "raw",
   "metadata": {},
   "source": [
    "---\n",
    "title: Molecules to Models\n",
    "authors:\n",
    "- Kartik_Darapuneni\n",
    "tags:\n",
    "- hodgkin huxley\n",
    "- model\n",
    "- neuron\n",
    "created_at: 2017-09-09\n",
    "updated_at: 2017-09-09\n",
    "tldr: This is post to create a model of a neuron using the hodgkin huxley model.\n",
    "---"
   ]
  },
  {
   "cell_type": "markdown",
   "metadata": {},
   "source": [
    "### History\n"
   ]
  },
  {
   "cell_type": "markdown",
   "metadata": {},
   "source": [
    "The Hodgkin Huxley model was first [theorized](https://www.ncbi.nlm.nih.gov/pmc/articles/PMC1392413/) by measuring the flow of electric current through the surface membrane a a gaint nerve of a squid. these measurements were modeled in quantative terms through the now standard equation.\n",
    "\n",
    "![alt hhModel](http://physiome.org/Models/xsim_modeldocs/OLD/Software/DEMO/HODHUX/hodhux.html-36.gif)"
   ]
  },
  {
   "cell_type": "markdown",
   "metadata": {},
   "source": [
    "### Motivation"
   ]
  },
  {
   "cell_type": "markdown",
   "metadata": {},
   "source": [
    "*NOTE: optimize in this section for **context setting**, as specifically as you can. For instance, this post is generally a set of standards for work in the repo. The specific motivation is to have least friction to current workflow while being able to painlessly aggregate it later.*\n",
    "\n",
    "The knowledge repo was created to consolidate research work that is currently scattered in emails, blogposts, and presentations, so that people didn't redo their work."
   ]
  },
  {
   "cell_type": "markdown",
   "metadata": {},
   "source": [
    "### This Section Says Exactly This Takeaway"
   ]
  },
  {
   "cell_type": "code",
   "execution_count": null,
   "metadata": {
    "collapsed": false
   },
   "outputs": [],
   "source": [
    "import pandas as pd\n",
    "import numpy as np\n",
    "import matplotlib\n",
    "from matplotlib import pyplot as plt\n",
    "\n",
    "\n",
    "%matplotlib inline\n",
    "\n",
    "x = np.linspace(0, 3*np.pi, 500)\n",
    "plot_df = pd.DataFrame()\n",
    "plot_df[\"x\"] = x\n",
    "plot_df[\"y\"] = np.sin(x**2)\n",
    "\n",
    "\n",
    "plot_df.plot('x', 'y', \n",
    "             color='lightblue',\n",
    "             figsize=(15,10))\n",
    "plt.title(\"Put enough labeling in your graph to be understood on its own\", size=25)\n",
    "plt.xlabel('you definitely need axis labels', size=20)\n",
    "plt.ylabel('both of them', size=20)"
   ]
  },
  {
   "cell_type": "markdown",
   "metadata": {},
   "source": [
    "*NOTE: in graphs, optimize for being able to **stand alone**. When aggregating and putting things in presentations, you won't have to recreate and add code to each plot to make it understandable without the entire post around it. Will it be understandable without several paragraphs?*"
   ]
  },
  {
   "cell_type": "markdown",
   "metadata": {},
   "source": [
    "### Putting Big Bold Headers with Clear Takeaways Will Help Us Aggregate Later"
   ]
  },
  {
   "cell_type": "markdown",
   "metadata": {},
   "source": [
    "### Appendix"
   ]
  },
  {
   "cell_type": "markdown",
   "metadata": {},
   "source": [
    "Put all the stuff here that is not necessary for supporting the points above. Good place for documentation without distraction."
   ]
  }
 ],
 "metadata": {
  "hide_input": false,
  "kernelspec": {
   "display_name": "Python 2",
   "language": "python",
   "name": "python2"
  },
  "language_info": {
   "codemirror_mode": {
    "name": "ipython",
    "version": 2
   },
   "file_extension": ".py",
   "mimetype": "text/x-python",
   "name": "python",
   "nbconvert_exporter": "python",
   "pygments_lexer": "ipython2",
   "version": "2.7.11"
  }
 },
 "nbformat": 4,
 "nbformat_minor": 0
}